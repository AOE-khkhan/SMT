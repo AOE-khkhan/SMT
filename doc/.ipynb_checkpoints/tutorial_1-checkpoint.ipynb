{
 "cells": [
  {
   "cell_type": "markdown",
   "metadata": {
    "slideshow": {
     "slide_type": "slide"
    }
   },
   "source": [
    "# SMT: A Python Surrogate Model Toolbox"
   ]
  },
  {
   "cell_type": "markdown",
   "metadata": {},
   "source": [
    "## preamble\n",
    "<img src=\"files/grie5.png\" style=\"margin: 0px 0px 5px 20px; width: 10cm; float: right;\" title=\"Example surrogate model\"/>\n",
    "SMT, surrogate model toolbox, is a Python toolbox that includes four types of surrogate models---the least square (ls), square polynomial (pa2), inverse distance weighting (idw) and kriging-based models.\n",
    "\n",
    "The toolbox supports Linux and Microsoft Windows, except the idw model which is available only with Linux.\n",
    "\n",
    "This package is devoted to gathering several types of surrogate models within the same platform, for providing a benchmark to the engineering field. Another purpose of the SMT is for research purposes.\n",
    "\n",
    "SMT is typically used as a surrogate model for a (time-consuming) computer model."
   ]
  },
  {
   "cell_type": "markdown",
   "metadata": {},
   "source": [
    "## Version 0.0.1"
   ]
  },
  {
   "cell_type": "markdown",
   "metadata": {},
   "source": [
    "## Availability\n",
    "The toolbox is available for free. It could be used for commercial, research purposes, or both.\n",
    "\n",
    "[To download the package](https://github.com/bouhlelma/SMT)"
   ]
  },
  {
   "cell_type": "markdown",
   "metadata": {},
   "source": [
    "## Documentation\n",
    "[Quick tutorial](./tutorial_2.html)\n",
    "\n",
    "[KPLS](http://link.springer.com/article/10.1007/s00158-015-1395-9)\n",
    "\n",
    "[KPLSK](https://www.hindawi.com/journals/mpe/2016/6723410/)"
   ]
  },
  {
   "cell_type": "markdown",
   "metadata": {},
   "source": [
    "## On-going development"
   ]
  },
  {
   "cell_type": "markdown",
   "metadata": {
    "collapsed": true
   },
   "source": [
    "### Poeple involved"
   ]
  },
  {
   "cell_type": "markdown",
   "metadata": {},
   "source": [
    "SMT is maintained by Mohamed Amine Bouhlel from MDOlab &nbsp;&nbsp;&nbsp;&nbsp;&nbsp;&nbsp; mbouhlel@umich.edu\n",
    "\n",
    "John Hwang &nbsp;&nbsp;&nbsp;&nbsp;&nbsp;&nbsp;&nbsp;&nbsp;&nbsp;&nbsp;&nbsp; hwangjt@umich.edu\n",
    "\n",
    "Nathalie Bartoli &nbsp;&nbsp;&nbsp;&nbsp;&nbsp;&nbsp;&nbsp; nathalie.bartoli@onera.fr\n",
    "\n",
    "Rhea P. Liem &nbsp;&nbsp;&nbsp;&nbsp;&nbsp;&nbsp;&nbsp;&nbsp;&nbsp;&nbsp; rpliem@ust.hk"
   ]
  },
  {
   "cell_type": "markdown",
   "metadata": {},
   "source": [
    "###### Last update December 15, 2016"
   ]
  }
 ],
 "metadata": {
  "anaconda-cloud": {},
  "kernelspec": {
   "display_name": "Python [default]",
   "language": "python",
   "name": "python2"
  },
  "language_info": {
   "codemirror_mode": {
    "name": "ipython",
    "version": 2
   },
   "file_extension": ".py",
   "mimetype": "text/x-python",
   "name": "python",
   "nbconvert_exporter": "python",
   "pygments_lexer": "ipython2",
   "version": "2.7.12"
  }
 },
 "nbformat": 4,
 "nbformat_minor": 0
}
